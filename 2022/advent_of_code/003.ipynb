{
 "cells": [
  {
   "cell_type": "code",
   "execution_count": 2,
   "metadata": {},
   "outputs": [],
   "source": [
    "priorities = {\n",
    "    \"a\": 1,\n",
    "    \"b\": 2,\n",
    "    \"c\": 3,\n",
    "    \"d\": 4,\n",
    "    \"e\": 5,\n",
    "    \"f\": 6,\n",
    "    \"g\": 7,\n",
    "    \"h\": 8,\n",
    "    \"i\": 9, \n",
    "    \"j\": 10,\n",
    "    \"k\": 11,\n",
    "    \"l\": 12,\n",
    "    \"m\": 13,\n",
    "    \"n\": 14,\n",
    "    \"o\": 15,\n",
    "    \"p\": 16,\n",
    "    \"q\": 17,\n",
    "    \"r\": 18,\n",
    "    \"s\": 19,\n",
    "    \"t\": 20,\n",
    "    \"u\": 21,\n",
    "    \"v\": 22,\n",
    "    \"w\": 23,\n",
    "    \"x\": 24,\n",
    "    \"y\": 25,\n",
    "    \"z\": 26,\n",
    "    \"A\": 27,\n",
    "    \"B\": 28,\n",
    "    \"C\": 29,\n",
    "    \"D\": 30,\n",
    "    \"E\": 31,\n",
    "    \"F\": 32,\n",
    "    \"G\": 33,\n",
    "    \"H\": 34,\n",
    "    \"I\": 35,\n",
    "    \"J\": 36,\n",
    "    \"K\": 37,\n",
    "    \"L\": 38,\n",
    "    \"M\": 39,\n",
    "    \"N\": 40,\n",
    "    \"O\": 41,\n",
    "    \"P\": 42,\n",
    "    \"Q\": 43,\n",
    "    \"R\": 44,\n",
    "    \"S\": 45,\n",
    "    \"T\": 46,\n",
    "    \"U\": 47,\n",
    "    \"V\": 48,\n",
    "    \"W\": 49,\n",
    "    \"X\": 50,\n",
    "    \"Y\": 51,\n",
    "    \"Z\": 52,\n",
    "}\n"
   ]
  },
  {
   "cell_type": "code",
   "execution_count": 9,
   "metadata": {},
   "outputs": [],
   "source": [
    "my_points = 0\n",
    "\n",
    "with open(\"003.txt\", \"r\") as f:\n",
    "    for line in f:\n",
    "        line = line.strip()\n",
    "        count = len(line)\n",
    "        compt_1 = []\n",
    "        compt_2 = []\n",
    "        \n",
    "        for i in range(count):\n",
    "            if i < count/2:\n",
    "                compt_1.append(line[i])\n",
    "            else:\n",
    "                compt_2.append(line[i])\n",
    "\n",
    "        # get common element in both lists\n",
    "        common = list(set(compt_1) & set(compt_2))\n",
    "        if len(common) > 1:\n",
    "            print(\"something is wrong\")\n",
    "        else:\n",
    "            my_points += priorities[common[0]]"
   ]
  },
  {
   "cell_type": "code",
   "execution_count": 10,
   "metadata": {},
   "outputs": [
    {
     "data": {
      "text/plain": [
       "7878"
      ]
     },
     "execution_count": 10,
     "metadata": {},
     "output_type": "execute_result"
    }
   ],
   "source": [
    "my_points"
   ]
  },
  {
   "cell_type": "code",
   "execution_count": 11,
   "metadata": {},
   "outputs": [],
   "source": [
    "# --- Part Two ---"
   ]
  },
  {
   "cell_type": "code",
   "execution_count": 19,
   "metadata": {},
   "outputs": [],
   "source": [
    "my_points = 0\n",
    "\n",
    "groups = []\n",
    "\n",
    "with open(\"003.txt\", \"r\") as f:\n",
    "    counter = 0\n",
    "    for line in f:\n",
    "\n",
    "        line = line.strip()\n",
    "        groups.append(line)\n"
   ]
  },
  {
   "cell_type": "code",
   "execution_count": 21,
   "metadata": {},
   "outputs": [],
   "source": [
    "# divide the groups list into sublists of 3 elements each\n",
    "groups = [groups[i:i+3] for i in range(0, len(groups), 3)]"
   ]
  },
  {
   "cell_type": "code",
   "execution_count": 23,
   "metadata": {},
   "outputs": [],
   "source": [
    "my_points = 0\n",
    "# get the common elements in each sublist\n",
    "for group in groups:\n",
    "    compt_1 = []\n",
    "    compt_2 = []\n",
    "    compt_3 = []\n",
    "\n",
    "    for i in range(3):\n",
    "        if i == 0:\n",
    "            compt_1 = list(group[i])\n",
    "        elif i == 1:\n",
    "            compt_2 = list(group[i])\n",
    "        else:\n",
    "            compt_3 = list(group[i])\n",
    "\n",
    "    common = list(set(compt_1) & set(compt_2) & set(compt_3))\n",
    "    if len(common) > 1:\n",
    "        print(\"something is wrong\")\n",
    "    else:\n",
    "        my_points += priorities[common[0]]"
   ]
  },
  {
   "cell_type": "code",
   "execution_count": 24,
   "metadata": {},
   "outputs": [
    {
     "data": {
      "text/plain": [
       "2760"
      ]
     },
     "execution_count": 24,
     "metadata": {},
     "output_type": "execute_result"
    }
   ],
   "source": [
    "my_points"
   ]
  }
 ],
 "metadata": {
  "kernelspec": {
   "display_name": "Python 3.10.8 ('advent')",
   "language": "python",
   "name": "python3"
  },
  "language_info": {
   "codemirror_mode": {
    "name": "ipython",
    "version": 3
   },
   "file_extension": ".py",
   "mimetype": "text/x-python",
   "name": "python",
   "nbconvert_exporter": "python",
   "pygments_lexer": "ipython3",
   "version": "3.10.8"
  },
  "orig_nbformat": 4,
  "vscode": {
   "interpreter": {
    "hash": "f8a2a3061a3574a4f16270af3e7090d92a7ed787ea91a986fb13b92f4a558919"
   }
  }
 },
 "nbformat": 4,
 "nbformat_minor": 2
}
