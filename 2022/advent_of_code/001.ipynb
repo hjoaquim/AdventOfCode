{
 "cells": [
  {
   "cell_type": "code",
   "execution_count": 1,
   "metadata": {},
   "outputs": [
    {
     "name": "stdout",
     "output_type": "stream",
     "text": [
      "hello\n"
     ]
    }
   ],
   "source": [
    "print(\"hello\")"
   ]
  },
  {
   "cell_type": "code",
   "execution_count": 13,
   "metadata": {},
   "outputs": [],
   "source": [
    "dict_of_elfs = {}"
   ]
  },
  {
   "cell_type": "code",
   "execution_count": 17,
   "metadata": {},
   "outputs": [],
   "source": [
    "# read the file\n",
    "with open(\"001.txt\", \"r\") as f:\n",
    "    elf_counter = 1\n",
    "    dict_of_elfs[f\"elf_{elf_counter}\"] = []\n",
    "    for line in f:\n",
    "        if line != \"\\n\":\n",
    "            dict_of_elfs[f\"elf_{elf_counter}\"].append(int(line))\n",
    "        else:\n",
    "            elf_counter += 1\n",
    "            dict_of_elfs[f\"elf_{elf_counter}\"] = []"
   ]
  },
  {
   "cell_type": "code",
   "execution_count": 19,
   "metadata": {},
   "outputs": [],
   "source": [
    "for elf in dict_of_elfs:\n",
    "    dict_of_elfs[elf] = sum(dict_of_elfs[elf])"
   ]
  },
  {
   "cell_type": "code",
   "execution_count": 24,
   "metadata": {},
   "outputs": [],
   "source": [
    "# get the key and value of the max value\n",
    "max_key = max(dict_of_elfs, key=dict_of_elfs.get)"
   ]
  },
  {
   "cell_type": "code",
   "execution_count": 26,
   "metadata": {},
   "outputs": [
    {
     "data": {
      "text/plain": [
       "72602"
      ]
     },
     "execution_count": 26,
     "metadata": {},
     "output_type": "execute_result"
    }
   ],
   "source": [
    "dict_of_elfs[max_key]"
   ]
  },
  {
   "cell_type": "code",
   "execution_count": 27,
   "metadata": {},
   "outputs": [],
   "source": [
    "# Part 2"
   ]
  },
  {
   "cell_type": "code",
   "execution_count": 28,
   "metadata": {},
   "outputs": [],
   "source": [
    "# order dict by value\n",
    "dict_of_elfs = {k: v for k, v in sorted(dict_of_elfs.items(), key=lambda item: item[1])}"
   ]
  },
  {
   "cell_type": "code",
   "execution_count": 31,
   "metadata": {},
   "outputs": [],
   "source": [
    "# get last three positions of the dict\n",
    "last_three = list(dict_of_elfs)[-3:]"
   ]
  },
  {
   "cell_type": "code",
   "execution_count": 32,
   "metadata": {},
   "outputs": [
    {
     "data": {
      "text/plain": [
       "['elf_232', 'elf_10', 'elf_218']"
      ]
     },
     "execution_count": 32,
     "metadata": {},
     "output_type": "execute_result"
    }
   ],
   "source": [
    "last_three"
   ]
  },
  {
   "cell_type": "code",
   "execution_count": 34,
   "metadata": {},
   "outputs": [
    {
     "name": "stdout",
     "output_type": "stream",
     "text": [
      "elf_232: 66796\n",
      "66796\n",
      "elf_10: 68012\n",
      "134808\n",
      "elf_218: 72602\n",
      "207410\n"
     ]
    }
   ],
   "source": [
    "sum = 0\n",
    "for elem in last_three:\n",
    "    sum += dict_of_elfs[elem]\n",
    "\n",
    "    print(f\"{elem}: {dict_of_elfs[elem]}\")\n",
    "    print(sum)"
   ]
  }
 ],
 "metadata": {
  "kernelspec": {
   "display_name": "Python 3.10.8 ('advent')",
   "language": "python",
   "name": "python3"
  },
  "language_info": {
   "codemirror_mode": {
    "name": "ipython",
    "version": 3
   },
   "file_extension": ".py",
   "mimetype": "text/x-python",
   "name": "python",
   "nbconvert_exporter": "python",
   "pygments_lexer": "ipython3",
   "version": "3.10.8"
  },
  "orig_nbformat": 4,
  "vscode": {
   "interpreter": {
    "hash": "f8a2a3061a3574a4f16270af3e7090d92a7ed787ea91a986fb13b92f4a558919"
   }
  }
 },
 "nbformat": 4,
 "nbformat_minor": 2
}
