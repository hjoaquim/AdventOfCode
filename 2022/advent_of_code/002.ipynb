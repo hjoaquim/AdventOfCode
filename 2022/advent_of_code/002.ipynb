{
 "cells": [
  {
   "cell_type": "code",
   "execution_count": 5,
   "metadata": {},
   "outputs": [],
   "source": [
    "combinations = {\n",
    "    \"rock, scissors\": \"loose\",\n",
    "    \"scissors, rock\": \"win\",\n",
    "    \"rock, paper\": \"win\",\n",
    "    \"paper, rock\": \"loose\",\n",
    "    \"paper, scissors\": \"win\",\n",
    "    \"scissors, paper\": \"loose\",\n",
    "}"
   ]
  },
  {
   "cell_type": "code",
   "execution_count": 6,
   "metadata": {},
   "outputs": [],
   "source": [
    "points_result = {\n",
    "    \"loose\": 0,\n",
    "    \"draw\": 3,\n",
    "    \"win\": 6,\n",
    "}\n",
    "\n",
    "points_choices = {\n",
    "    \"rock\": 1,\n",
    "    \"paper\": 2,\n",
    "    \"scissors\": 3,\n",
    "}"
   ]
  },
  {
   "cell_type": "code",
   "execution_count": 15,
   "metadata": {},
   "outputs": [],
   "source": [
    "me_options = {\n",
    "    \"X\": \"rock\",\n",
    "    \"Y\": \"paper\",\n",
    "    \"Z\": \"scissors\",\n",
    "}\n",
    "\n",
    "adv_options = {\n",
    "    \"A\": \"rock\",\n",
    "    \"B\": \"paper\",\n",
    "    \"C\": \"scissors\",\n",
    "}\n",
    "\n",
    "def get_result(adv, me):\n",
    "    adv = adv_options[adv]\n",
    "    me = me_options[me]\n",
    "\n",
    "    if adv == me:\n",
    "        return points_result[\"draw\"] + points_choices[me]\n",
    "    else:\n",
    "        combination = f\"{adv}, {me}\"\n",
    "        result = combinations[combination]\n",
    "        return points_result[result] + points_choices[me]"
   ]
  },
  {
   "cell_type": "code",
   "execution_count": 16,
   "metadata": {},
   "outputs": [],
   "source": [
    "my_points = 0\n",
    "\n",
    "with open(\"002.txt\", \"r\") as f:\n",
    "    for line in f:\n",
    "        line = line.strip().split(\" \")\n",
    "        adv = line[0]\n",
    "        me = line[1]\n",
    "        my_points += get_result(adv, me)"
   ]
  },
  {
   "cell_type": "code",
   "execution_count": 17,
   "metadata": {},
   "outputs": [
    {
     "data": {
      "text/plain": [
       "14264"
      ]
     },
     "execution_count": 17,
     "metadata": {},
     "output_type": "execute_result"
    }
   ],
   "source": [
    "my_points"
   ]
  },
  {
   "cell_type": "code",
   "execution_count": 18,
   "metadata": {},
   "outputs": [],
   "source": [
    "# --- Part Two ---"
   ]
  },
  {
   "cell_type": "code",
   "execution_count": 22,
   "metadata": {},
   "outputs": [],
   "source": [
    "second_col_meaning = {\n",
    "    \"X\": \"loose\",\n",
    "    \"Y\": \"draw\",\n",
    "    \"Z\": \"win\",\n",
    "}"
   ]
  },
  {
   "cell_type": "code",
   "execution_count": 33,
   "metadata": {},
   "outputs": [],
   "source": [
    "new_combinations = {\n",
    "    \"rock, loose\": \"scissors\",\n",
    "    \"rock, win\": \"paper\",\n",
    "    \"rock, draw\": \"rock\",\n",
    "    \"scissors, loose\": \"paper\",\n",
    "    \"scissors, win\": \"rock\",\n",
    "    \"scissors, draw\": \"scissors\",\n",
    "    \"paper, loose\": \"rock\",\n",
    "    \"paper, win\": \"scissors\",\n",
    "    \"paper, draw\": \"paper\",\n",
    "}\n",
    "\n",
    "def get_my_choice(adv, result):\n",
    "    combination = f\"{adv}, {result}\"\n",
    "    return new_combinations[combination]"
   ]
  },
  {
   "cell_type": "code",
   "execution_count": 34,
   "metadata": {},
   "outputs": [],
   "source": [
    "def new_get_result(adv, me):\n",
    "\n",
    "    if adv == me:\n",
    "        return points_result[\"draw\"] + points_choices[me]\n",
    "    else:\n",
    "        combination = f\"{adv}, {me}\"\n",
    "        result = combinations[combination]\n",
    "        return points_result[result] + points_choices[me]"
   ]
  },
  {
   "cell_type": "code",
   "execution_count": 35,
   "metadata": {},
   "outputs": [],
   "source": [
    "my_points = 0\n",
    "\n",
    "with open(\"002.txt\", \"r\") as f:\n",
    "    for line in f:\n",
    "        line = line.strip().split(\" \")\n",
    "        adv = adv_options[line[0]]\n",
    "        me = get_my_choice(\n",
    "            adv=adv,\n",
    "            result=second_col_meaning[line[1]]\n",
    "        )\n",
    "        my_points += new_get_result(adv, me)"
   ]
  },
  {
   "cell_type": "code",
   "execution_count": 36,
   "metadata": {},
   "outputs": [
    {
     "data": {
      "text/plain": [
       "12382"
      ]
     },
     "execution_count": 36,
     "metadata": {},
     "output_type": "execute_result"
    }
   ],
   "source": [
    "my_points"
   ]
  }
 ],
 "metadata": {
  "kernelspec": {
   "display_name": "Python 3.10.8 ('advent')",
   "language": "python",
   "name": "python3"
  },
  "language_info": {
   "codemirror_mode": {
    "name": "ipython",
    "version": 3
   },
   "file_extension": ".py",
   "mimetype": "text/x-python",
   "name": "python",
   "nbconvert_exporter": "python",
   "pygments_lexer": "ipython3",
   "version": "3.10.8"
  },
  "orig_nbformat": 4,
  "vscode": {
   "interpreter": {
    "hash": "f8a2a3061a3574a4f16270af3e7090d92a7ed787ea91a986fb13b92f4a558919"
   }
  }
 },
 "nbformat": 4,
 "nbformat_minor": 2
}
