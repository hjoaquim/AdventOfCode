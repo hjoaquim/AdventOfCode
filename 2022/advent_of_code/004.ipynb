{
 "cells": [
  {
   "cell_type": "code",
   "execution_count": 28,
   "metadata": {},
   "outputs": [],
   "source": [
    "from typing import List"
   ]
  },
  {
   "cell_type": "code",
   "execution_count": 63,
   "metadata": {},
   "outputs": [],
   "source": [
    "def get_numbers_in_between(a, b):\n",
    "    return list(range(a, b+1))"
   ]
  },
  {
   "cell_type": "code",
   "execution_count": 64,
   "metadata": {},
   "outputs": [],
   "source": [
    "def check_fully_covered(\n",
    "    numbers: list,\n",
    "    list_of_sections: List[list]\n",
    ") -> bool:\n",
    "    for section in list_of_sections:\n",
    "        if set(numbers).issubset(section):\n",
    "            return True\n"
   ]
  },
  {
   "cell_type": "code",
   "execution_count": 68,
   "metadata": {},
   "outputs": [],
   "source": [
    "def check_fully_covered_one_another(list_of_elems):\n",
    "    if len(list_of_elems) > 2:\n",
    "        raise Exception(\"Only two elements are allowed\")\n",
    "\n",
    "    if set(list_of_elems[0]).issubset(list_of_elems[1]):\n",
    "        return True\n",
    "    \n",
    "    if set(list_of_elems[1]).issubset(list_of_elems[0]):\n",
    "        return True"
   ]
  },
  {
   "cell_type": "code",
   "execution_count": 70,
   "metadata": {},
   "outputs": [],
   "source": [
    "counter_of_fully_covered_numbers = 0\n",
    "\n",
    "with open(\"004.txt\", \"r\") as f:\n",
    "    for line in f:\n",
    "        line = line.strip()\n",
    "        elements = line.split(\",\")\n",
    "        list_of_sections = []\n",
    "        \n",
    "        for element in elements:\n",
    "            a, b = element.split(\"-\")\n",
    "            numbers = get_numbers_in_between(int(a), int(b))\n",
    "\n",
    "            list_of_sections.append(numbers)\n",
    "        \n",
    "        if check_fully_covered_one_another(list_of_sections):\n",
    "                counter_of_fully_covered_numbers += 1"
   ]
  },
  {
   "cell_type": "code",
   "execution_count": 71,
   "metadata": {},
   "outputs": [
    {
     "data": {
      "text/plain": [
       "503"
      ]
     },
     "execution_count": 71,
     "metadata": {},
     "output_type": "execute_result"
    }
   ],
   "source": [
    "counter_of_fully_covered_numbers"
   ]
  },
  {
   "cell_type": "code",
   "execution_count": 72,
   "metadata": {},
   "outputs": [],
   "source": [
    "# --- Part Two ---"
   ]
  },
  {
   "cell_type": "code",
   "execution_count": 85,
   "metadata": {},
   "outputs": [],
   "source": [
    "def check_overlap(list_of_elems):\n",
    "    if len(list_of_elems) > 2:\n",
    "        raise Exception(\"Only two elements are allowed\")\n",
    "\n",
    "    intersection = set(list_of_elems[0]) & set(list_of_elems[1])\n",
    "    if intersection:\n",
    "        return True\n",
    "    return False"
   ]
  },
  {
   "cell_type": "code",
   "execution_count": 86,
   "metadata": {},
   "outputs": [],
   "source": [
    "counter_of_fully_covered_numbers = 0\n",
    "with open(\"004.txt\", \"r\") as f:\n",
    "    for line in f:\n",
    "        line = line.strip()\n",
    "        elements = line.split(\",\")\n",
    "        list_of_sections = []\n",
    "        \n",
    "        for element in elements:\n",
    "            a, b = element.split(\"-\")\n",
    "            numbers = get_numbers_in_between(int(a), int(b))\n",
    "\n",
    "            list_of_sections.append(numbers)\n",
    "        \n",
    "        if check_overlap(list_of_sections):\n",
    "                counter_of_fully_covered_numbers += 1"
   ]
  },
  {
   "cell_type": "code",
   "execution_count": 87,
   "metadata": {},
   "outputs": [
    {
     "data": {
      "text/plain": [
       "827"
      ]
     },
     "execution_count": 87,
     "metadata": {},
     "output_type": "execute_result"
    }
   ],
   "source": [
    "counter_of_fully_covered_numbers"
   ]
  }
 ],
 "metadata": {
  "kernelspec": {
   "display_name": "Python 3.10.8 ('advent')",
   "language": "python",
   "name": "python3"
  },
  "language_info": {
   "codemirror_mode": {
    "name": "ipython",
    "version": 3
   },
   "file_extension": ".py",
   "mimetype": "text/x-python",
   "name": "python",
   "nbconvert_exporter": "python",
   "pygments_lexer": "ipython3",
   "version": "3.10.8"
  },
  "orig_nbformat": 4,
  "vscode": {
   "interpreter": {
    "hash": "f8a2a3061a3574a4f16270af3e7090d92a7ed787ea91a986fb13b92f4a558919"
   }
  }
 },
 "nbformat": 4,
 "nbformat_minor": 2
}
